{
 "cells": [
  {
   "cell_type": "code",
   "execution_count": 1,
   "id": "87cb3814",
   "metadata": {},
   "outputs": [],
   "source": [
    "%matplotlib inline\n",
    "%config IPython.matplotlib.backend = \"retina\"\n",
    "from matplotlib import rcParams\n",
    "rcParams[\"savefig.dpi\"] = 300\n",
    "rcParams[\"figure.dpi\"] = 300"
   ]
  },
  {
   "cell_type": "code",
   "execution_count": 2,
   "id": "ac896e8e",
   "metadata": {},
   "outputs": [],
   "source": [
    "import numpy as np\n",
    "import matplotlib.pyplot as plt\n",
    "import matplotlib.lines as mlines\n",
    "import json, os, pickle, glob#, natsort\n",
    "import corner\n",
    "import astropy.units as u"
   ]
  },
  {
   "cell_type": "code",
   "execution_count": 3,
   "id": "aafdc212",
   "metadata": {},
   "outputs": [
    {
     "name": "stderr",
     "output_type": "stream",
     "text": [
      "WARNING: AstropyDeprecationWarning: The private astropy._erfa module has been made into its own package, pyerfa, which is a dependency of astropy and can be imported directly using \"import erfa\" [astropy._erfa]\n"
     ]
    }
   ],
   "source": [
    "import la_forge.diagnostics as dg\n",
    "import la_forge.core as co\n",
    "from la_forge.utils import bayes_fac\n",
    "from targeted_cws_ng15 import post_processing as pp"
   ]
  },
  {
   "cell_type": "code",
   "execution_count": 4,
   "id": "acb3765f",
   "metadata": {},
   "outputs": [],
   "source": [
    "project_path = '/vast/palmer/home.grace/bbl29/targeted_cws_ng15'\n",
    "outdir_path = '/vast/palmer/home.grace/bbl29/project/targeted_cws_ng15/data/chains'\n",
    "dataset = 'ng15_v1p1'\n",
    "c_light = 299792458 # m/s\n",
    "G = 6.67430e-11 # Nm^2/kg"
   ]
  },
  {
   "cell_type": "code",
   "execution_count": 6,
   "id": "5061ee9c",
   "metadata": {},
   "outputs": [
    {
     "name": "stdout",
     "output_type": "stream",
     "text": [
      "16 targets\n",
      "['3C66B', 'HS 0926+3608', 'HS 1630+2355', 'NGC 3115', 'OJ287', 'PKS 2131$-$021', 'PKS J0805$-$0111', 'SDSS J092911.35+2037', 'SDSS J114857.33+1600', 'SDSS J131706.19+2714', 'SDSS J133516.17+1833', 'SDSS J134855.27$-$0321', 'SDSS J140704.43+2735', 'SDSS J160730.33+1449', 'SDSS J164452.71+4307', 'SNU J13120+0641']\n"
     ]
    }
   ],
   "source": [
    "target_paths = glob.glob(f'{outdir_path}/{dataset}/*_UL') + glob.glob(f'{outdir_path}/{dataset}/*_UL_varyfgw')\n",
    "[target_paths.pop(target_paths.index(tp)) for tp in np.flip(target_paths) if 'altskyloc' in tp]\n",
    "[target_paths.pop(target_paths.index(tp)) for tp in np.flip(target_paths) if 'altskyloc' in tp]\n",
    "[target_paths.pop(target_paths.index(tp)) for tp in np.flip(target_paths) if 'nHz' in tp]\n",
    "targets = [tp.replace(f'{outdir_path}/{dataset}/','').replace('_UL','') for tp in target_paths]\n",
    "targets_copy = np.copy(targets)\n",
    "targets_og = {}\n",
    "Nt = len(targets)\n",
    "for i in range(Nt):\n",
    "    targets[i] = targets[i].replace('_',' ')\n",
    "    targets[i] = targets[i].replace('-','$-$')\n",
    "    if 'varyfgw' in targets[i]:\n",
    "        targets[i] = targets[i].replace(' varyfgw','')\n",
    "    targets_og[targets[i]] = targets_copy[i]\n",
    "    #if '16nHz' in targets[i]:\n",
    "    #    targets[i] = targets[i].replace(' 16nHz','')\n",
    "    #if '49nHz' in targets[i]:\n",
    "    #    targets[i] = targets[i].replace(' 49nHz','')\n",
    "targets = sorted(targets)\n",
    "target_paths = sorted(target_paths)\n",
    "print(Nt,'targets')\n",
    "print(targets)"
   ]
  },
  {
   "cell_type": "code",
   "execution_count": 7,
   "id": "4bae51d2",
   "metadata": {},
   "outputs": [],
   "source": [
    "target_paths_det = glob.glob(f'{outdir_path}/{dataset}/*_det*')\n",
    "[target_paths_det.pop(target_paths_det.index(tp)) for tp in np.flip(target_paths_det) if 'altskyloc' in tp]\n",
    "[target_paths_det.pop(target_paths_det.index(tp)) for tp in np.flip(target_paths_det) if 'altskyloc' in tp]\n",
    "[target_paths_det.pop(target_paths_det.index(tp)) for tp in np.flip(target_paths_det) if '49nHz' in tp]\n",
    "target_paths_det = sorted(target_paths_det)"
   ]
  },
  {
   "cell_type": "markdown",
   "id": "86bc8f79",
   "metadata": {},
   "source": [
    "Load cores"
   ]
  },
  {
   "cell_type": "code",
   "execution_count": 8,
   "id": "75d63f64",
   "metadata": {},
   "outputs": [
    {
     "name": "stdout",
     "output_type": "stream",
     "text": [
      "3C66B /vast/palmer/home.grace/bbl29/project/targeted_cws_ng15/data/chains/ng15_v1p1/3C66B_UL\n",
      "HS 0926+3608 /vast/palmer/home.grace/bbl29/project/targeted_cws_ng15/data/chains/ng15_v1p1/HS_0926+3608_UL\n",
      "HS 1630+2355 /vast/palmer/home.grace/bbl29/project/targeted_cws_ng15/data/chains/ng15_v1p1/HS_1630+2355_UL\n",
      "NGC 3115 /vast/palmer/home.grace/bbl29/project/targeted_cws_ng15/data/chains/ng15_v1p1/NGC_3115_UL_varyfgw\n",
      "OJ287 /vast/palmer/home.grace/bbl29/project/targeted_cws_ng15/data/chains/ng15_v1p1/OJ287_UL\n",
      "PKS 2131$-$021 /vast/palmer/home.grace/bbl29/project/targeted_cws_ng15/data/chains/ng15_v1p1/PKS_2131-021_UL\n",
      "PKS J0805$-$0111 /vast/palmer/home.grace/bbl29/project/targeted_cws_ng15/data/chains/ng15_v1p1/PKS_J0805-0111_UL\n",
      "SDSS J092911.35+2037 /vast/palmer/home.grace/bbl29/project/targeted_cws_ng15/data/chains/ng15_v1p1/SDSS_J092911.35+2037_UL\n",
      "SDSS J114857.33+1600 /vast/palmer/home.grace/bbl29/project/targeted_cws_ng15/data/chains/ng15_v1p1/SDSS_J114857.33+1600_UL\n",
      "SDSS J131706.19+2714 /vast/palmer/home.grace/bbl29/project/targeted_cws_ng15/data/chains/ng15_v1p1/SDSS_J131706.19+2714_UL\n",
      "SDSS J133516.17+1833 /vast/palmer/home.grace/bbl29/project/targeted_cws_ng15/data/chains/ng15_v1p1/SDSS_J133516.17+1833_UL\n",
      "SDSS J134855.27$-$0321 /vast/palmer/home.grace/bbl29/project/targeted_cws_ng15/data/chains/ng15_v1p1/SDSS_J134855.27-0321_UL\n",
      "SDSS J140704.43+2735 /vast/palmer/home.grace/bbl29/project/targeted_cws_ng15/data/chains/ng15_v1p1/SDSS_J140704.43+2735_UL\n",
      "SDSS J160730.33+1449 /vast/palmer/home.grace/bbl29/project/targeted_cws_ng15/data/chains/ng15_v1p1/SDSS_J160730.33+1449_UL\n",
      "SDSS J164452.71+4307 /vast/palmer/home.grace/bbl29/project/targeted_cws_ng15/data/chains/ng15_v1p1/SDSS_J164452.71+4307_UL\n",
      "SNU J13120+0641 /vast/palmer/home.grace/bbl29/project/targeted_cws_ng15/data/chains/ng15_v1p1/SNU_J13120+0641_UL\n",
      "Loading data from HDF5 file....\r"
     ]
    }
   ],
   "source": [
    "c_UL = {}\n",
    "for t, tp in zip(targets, target_paths):\n",
    "    print(t, tp)\n",
    "    #if not t == 'SDSS J131706.19+2714':\n",
    "    #    continue\n",
    "    c_UL[t] = co.Core(corepath=f'{tp}/core.h5', label=t)"
   ]
  },
  {
   "cell_type": "code",
   "execution_count": 9,
   "id": "dc093399",
   "metadata": {},
   "outputs": [
    {
     "name": "stdout",
     "output_type": "stream",
     "text": [
      "3C66B /vast/palmer/home.grace/bbl29/project/targeted_cws_ng15/data/chains/ng15_v1p1/3C66B_det\n",
      "HS 0926+3608 /vast/palmer/home.grace/bbl29/project/targeted_cws_ng15/data/chains/ng15_v1p1/HS_0926+3608_det\n",
      "HS 1630+2355 /vast/palmer/home.grace/bbl29/project/targeted_cws_ng15/data/chains/ng15_v1p1/HS_1630+2355_det\n",
      "NGC 3115 /vast/palmer/home.grace/bbl29/project/targeted_cws_ng15/data/chains/ng15_v1p1/NGC_3115_det_varyfgw\n",
      "OJ287 /vast/palmer/home.grace/bbl29/project/targeted_cws_ng15/data/chains/ng15_v1p1/OJ287_det\n",
      "PKS 2131$-$021 /vast/palmer/home.grace/bbl29/project/targeted_cws_ng15/data/chains/ng15_v1p1/PKS_2131-021_det\n",
      "PKS J0805$-$0111 /vast/palmer/home.grace/bbl29/project/targeted_cws_ng15/data/chains/ng15_v1p1/PKS_J0805-0111_det\n",
      "SDSS J092911.35+2037 /vast/palmer/home.grace/bbl29/project/targeted_cws_ng15/data/chains/ng15_v1p1/SDSS_J092911.35+2037_det\n",
      "SDSS J114857.33+1600 /vast/palmer/home.grace/bbl29/project/targeted_cws_ng15/data/chains/ng15_v1p1/SDSS_J114857.33+1600_det\n",
      "SDSS J131706.19+2714 /vast/palmer/home.grace/bbl29/project/targeted_cws_ng15/data/chains/ng15_v1p1/SDSS_J131706.19+2714_det\n",
      "SDSS J133516.17+1833 /vast/palmer/home.grace/bbl29/project/targeted_cws_ng15/data/chains/ng15_v1p1/SDSS_J133516.17+1833_det\n",
      "SDSS J134855.27$-$0321 /vast/palmer/home.grace/bbl29/project/targeted_cws_ng15/data/chains/ng15_v1p1/SDSS_J134855.27-0321_det\n",
      "SDSS J140704.43+2735 /vast/palmer/home.grace/bbl29/project/targeted_cws_ng15/data/chains/ng15_v1p1/SDSS_J140704.43+2735_det\n",
      "SDSS J160730.33+1449 /vast/palmer/home.grace/bbl29/project/targeted_cws_ng15/data/chains/ng15_v1p1/SDSS_J160730.33+1449_det\n",
      "SDSS J164452.71+4307 /vast/palmer/home.grace/bbl29/project/targeted_cws_ng15/data/chains/ng15_v1p1/SDSS_J164452.71+4307_det\n",
      "SNU J13120+0641 /vast/palmer/home.grace/bbl29/project/targeted_cws_ng15/data/chains/ng15_v1p1/SNU_J13120+0641_det\n",
      "Loading data from HDF5 file....\r"
     ]
    }
   ],
   "source": [
    "c_det = {}\n",
    "for t, tp in zip(targets[len(c_det.keys()):], target_paths_det[len(c_det.keys()):]):\n",
    "    print(t, tp)\n",
    "    c_det[t] = co.Core(corepath=f'{tp}/core.h5', label=t)"
   ]
  },
  {
   "cell_type": "markdown",
   "id": "a6b50193",
   "metadata": {},
   "source": [
    "Get Bayes factors and upper limits. Note there is a bit of difference in the Bayes factors depending whether you use $\\mathcal{M}_c$ or $h_0$ to calculate this, so we will ultimately report everything just to 1 decimal point."
   ]
  },
  {
   "cell_type": "code",
   "execution_count": 10,
   "id": "7f4dcfbc",
   "metadata": {
    "scrolled": true
   },
   "outputs": [],
   "source": [
    "BF = {}\n",
    "log10_h0_UL = {}\n",
    "log10_mc_UL = {}\n",
    "for t in targets:\n",
    "    BF[t] = pp.get_bayes_fac(c_det[t], amp_param='log10_mc')\n",
    "    #if t == 'SDSS J131706.19+2714':\n",
    "    #    log10_mc_UL[t] = c_det[t].get_param_credint('log10_mc', onesided=True, interval=95)\n",
    "    #    log10_h0_UL[t] = c_det[t].get_param_credint('log10_h0', onesided=True, interval=95)\n",
    "    #    continue\n",
    "    log10_mc_UL[t] = c_UL[t].get_param_credint('log10_mc', onesided=True, interval=95)\n",
    "    log10_h0_UL[t] = c_UL[t].get_param_credint('log10_h0', onesided=True, interval=95)"
   ]
  },
  {
   "cell_type": "markdown",
   "id": "cbbbcbf5",
   "metadata": {},
   "source": [
    "Make table"
   ]
  },
  {
   "cell_type": "code",
   "execution_count": 11,
   "id": "ded7abef",
   "metadata": {},
   "outputs": [
    {
     "name": "stdout",
     "output_type": "stream",
     "text": [
      "3C66B &  &  &  & 8.98 & -13.88 & 0.3 \\\\\n",
      "HS 0926+3608 &  &  &  & 10.55 & -13.93 & 1.3 \\\\\n",
      "HS 1630+2355 &  &  &  & 10.15 & -14.16 & 0.8 \\\\\n",
      "NGC 3115 &  &  &  & 8.64 & -13.39 & 1.4 \\\\\n",
      "OJ287 &  &  &  & 9.98 & -14.12 & 0.6 \\\\\n",
      "PKS 2131$-$021 &  &  &  & 10.2 & -14.28 & 0.8 \\\\\n",
      "PKS J0805$-$0111 &  &  &  & 10.37 & -13.93 & 1.0 \\\\\n",
      "SDSS J092911.35+2037 &  &  &  & 10.53 & -13.93 & 0.9 \\\\\n",
      "SDSS J114857.33+1600 &  &  &  & 10.26 & -14.17 & 0.7 \\\\\n",
      "SDSS J131706.19+2714 &  &  &  & 10.38 & -14.34 & 0.8 \\\\\n",
      "SDSS J133516.17+1833 &  &  &  & 10.12 & -14.36 & 0.6 \\\\\n",
      "SDSS J134855.27$-$0321 &  &  &  & 10.47 & -14.02 & 0.8 \\\\\n",
      "SDSS J140704.43+2735 &  &  &  & 10.41 & -14.19 & 1.1 \\\\\n",
      "SDSS J160730.33+1449 &  &  &  & 10.23 & -14.4 & 0.7 \\\\\n",
      "SDSS J164452.71+4307 &  &  &  & 10.37 & -14.19 & 0.8 \\\\\n",
      "SNU J13120+0641 &  &  &  & 9.81 & -14.0 & 0.8 \\\\\n"
     ]
    }
   ],
   "source": [
    "table = []\n",
    "for i, t in enumerate(targets):\n",
    "    line = []\n",
    "    line.append(t)\n",
    "    line.append('')\n",
    "    line.append('')\n",
    "    line.append('')\n",
    "    line.append(f'{np.round(log10_mc_UL[t], decimals=2)}')\n",
    "    line.append(f'{np.round(log10_h0_UL[t], decimals=2)}')\n",
    "    line.append(f'{np.round(BF[t], decimals=1)}')\n",
    "    fullline = ' & '.join(line)\n",
    "    fullline += r' \\\\'\n",
    "    table.append(fullline)\n",
    "print('\\n'.join(table))"
   ]
  },
  {
   "cell_type": "code",
   "execution_count": null,
   "id": "efac1bbe",
   "metadata": {},
   "outputs": [],
   "source": []
  }
 ],
 "metadata": {
  "kernelspec": {
   "display_name": "Python 3 (ipykernel)",
   "language": "python",
   "name": "python3"
  },
  "language_info": {
   "codemirror_mode": {
    "name": "ipython",
    "version": 3
   },
   "file_extension": ".py",
   "mimetype": "text/x-python",
   "name": "python",
   "nbconvert_exporter": "python",
   "pygments_lexer": "ipython3",
   "version": "3.10.12"
  }
 },
 "nbformat": 4,
 "nbformat_minor": 5
}
