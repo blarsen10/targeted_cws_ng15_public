{
 "cells": [
  {
   "cell_type": "code",
   "execution_count": null,
   "id": "e5fd0956",
   "metadata": {},
   "outputs": [],
   "source": [
    "%matplotlib inline\n",
    "%config IPython.matplotlib.backend = \"retina\"\n",
    "from matplotlib import rcParams\n",
    "rcParams[\"savefig.dpi\"] = 300\n",
    "rcParams[\"figure.dpi\"] = 300"
   ]
  },
  {
   "cell_type": "code",
   "execution_count": null,
   "id": "7a1900b4",
   "metadata": {},
   "outputs": [],
   "source": [
    "import numpy as np\n",
    "import matplotlib.pyplot as plt\n",
    "import matplotlib.lines as mlines\n",
    "import json, os, pickle, glob#, natsort\n",
    "import corner\n",
    "import astropy.units as u\n",
    "import scipy.stats as sps"
   ]
  },
  {
   "cell_type": "code",
   "execution_count": null,
   "id": "e1d0573b",
   "metadata": {},
   "outputs": [],
   "source": [
    "import la_forge.diagnostics as dg\n",
    "import la_forge.core as co\n",
    "from targeted_cws_ng15 import post_processing as pp\n",
    "from targeted_cws_ng15 import utils"
   ]
  },
  {
   "cell_type": "code",
   "execution_count": null,
   "id": "bbe9da62",
   "metadata": {},
   "outputs": [],
   "source": [
    "project_path = '/vast/palmer/home.grace/bbl29/targeted_cws_ng15'\n",
    "outdir_path = '/vast/palmer/home.grace/bbl29/project/targeted_cws_ng15/data/chains'\n",
    "save_loc = f'{project_path}/reports/figures/pub_figs'\n",
    "dataset = 'ng15_v1p1'"
   ]
  },
  {
   "cell_type": "markdown",
   "id": "5b856ecb",
   "metadata": {},
   "source": [
    "## Log-uniform priors (detection runs)"
   ]
  },
  {
   "cell_type": "code",
   "execution_count": null,
   "id": "009cf328",
   "metadata": {},
   "outputs": [],
   "source": [
    "target_paths = glob.glob(f'{outdir_path}/{dataset}/*_det*')\n",
    "[target_paths.pop(target_paths.index(tp)) for tp in np.flip(target_paths) if 'altskyloc' in tp]\n",
    "[target_paths.pop(target_paths.index(tp)) for tp in np.flip(target_paths) if 'altskyloc' in tp]\n",
    "[target_paths.pop(target_paths.index(tp)) for tp in np.flip(target_paths) if '49nHz' in tp]\n",
    "target_strs = [tp.replace(f'{outdir_path}/{dataset}/','').replace('_det','') for tp in target_paths]\n",
    "targets = np.copy(target_strs)\n",
    "Nt = len(targets)\n",
    "for i in range(Nt):\n",
    "    targets[i] = targets[i].replace('_',' ')\n",
    "    targets[i] = targets[i].replace('-','$-$')\n",
    "    if '16nHz' in targets[i]:\n",
    "        targets[i] = targets[i].replace(' 16nHz','')\n",
    "    if '49nHz' in targets[i]:\n",
    "        targets[i] = targets[i].replace(' 49nHz','')\n",
    "    if 'varyfgw' in targets[i]:\n",
    "        targets[i] = targets[i].replace(' varyfgw','')\n",
    "targets = sorted(targets)\n",
    "target_strs = sorted(target_strs)\n",
    "target_paths = sorted(target_paths)\n",
    "print(Nt,'targets')\n",
    "print(targets)"
   ]
  },
  {
   "cell_type": "code",
   "execution_count": null,
   "id": "86e88bb6",
   "metadata": {},
   "outputs": [],
   "source": [
    "c = {}\n",
    "for t, tp in zip(targets[len(c.keys()):], target_paths[len(c.keys()):]):\n",
    "    print(t, tp)\n",
    "    c[t] = co.Core(corepath=f'{tp}/core.h5', label=t)"
   ]
  },
  {
   "cell_type": "code",
   "execution_count": null,
   "id": "59892f24",
   "metadata": {},
   "outputs": [],
   "source": [
    "idx_start = 0\n",
    "idx_end = -1\n",
    "for t, t_str in zip(targets[idx_start:idx_end], target_strs[idx_start:idx_end]):\n",
    "    print(t)\n",
    "    if t == 'NGC 3115':\n",
    "        vary_fgw = True\n",
    "    else:\n",
    "        vary_fgw = False\n",
    "    pp.corner_single(t_str, c[t], dataset, project_path, save_loc=save_loc, vary_crn=False,\n",
    "                     vary_fgw=vary_fgw, detection=True, upper_limit=False, pub_fig=True,\n",
    "                     target_fancy_name=None, truths=False, plot_mc_prior_mean=False)"
   ]
  },
  {
   "cell_type": "markdown",
   "id": "72e58ffd",
   "metadata": {},
   "source": [
    "### older code\n",
    "    |\n",
    "    |\n",
    "    |\n",
    "    |\n",
    "    V"
   ]
  },
  {
   "cell_type": "code",
   "execution_count": null,
   "id": "b2fca840",
   "metadata": {
    "scrolled": true
   },
   "outputs": [],
   "source": [
    "idx_start = 0\n",
    "idx_end = 3\n",
    "for t, t_str in zip(targets[idx_start:idx_end], target_strs[idx_start:idx_end]):\n",
    "    print(t)\n",
    "    corner_single(t, t_str, c, 'log_uniform', save=True)"
   ]
  },
  {
   "cell_type": "code",
   "execution_count": null,
   "id": "88d44d56",
   "metadata": {},
   "outputs": [],
   "source": [
    "idx_start = 3\n",
    "idx_end = 6\n",
    "for t, t_str in zip(targets[idx_start:idx_end], target_strs[idx_start:idx_end]):\n",
    "    print(t)\n",
    "    corner_single(t, t_str, c, 'log_uniform', save=True)"
   ]
  },
  {
   "cell_type": "code",
   "execution_count": null,
   "id": "81e9d6d9",
   "metadata": {},
   "outputs": [],
   "source": [
    "idx_start = 6\n",
    "idx_end = 9\n",
    "for t, t_str in zip(targets[idx_start:idx_end], target_strs[idx_start:idx_end]):\n",
    "    print(t)\n",
    "    corner_single(t, t_str, c, 'log_uniform', save=True)"
   ]
  },
  {
   "cell_type": "code",
   "execution_count": null,
   "id": "16bd0861",
   "metadata": {},
   "outputs": [],
   "source": [
    "idx_start = 9\n",
    "idx_end = 12\n",
    "for t, t_str in zip(targets[idx_start:idx_end], target_strs[idx_start:idx_end]):\n",
    "    print(t)\n",
    "    corner_single(t, t_str, c, 'log_uniform', save=True)"
   ]
  },
  {
   "cell_type": "code",
   "execution_count": null,
   "id": "e0a00f23",
   "metadata": {},
   "outputs": [],
   "source": [
    "idx_start = 12\n",
    "idx_end = 15\n",
    "for t, t_str in zip(targets[idx_start:idx_end], target_strs[idx_start:idx_end]):\n",
    "    print(t)\n",
    "    corner_single(t, t_str, c, 'log_uniform', save=True)"
   ]
  },
  {
   "cell_type": "code",
   "execution_count": null,
   "id": "983c3d53",
   "metadata": {},
   "outputs": [],
   "source": [
    "idx_start = 15\n",
    "idx_end = None\n",
    "for t, t_str in zip(targets[idx_start:idx_end], target_strs[idx_start:idx_end]):\n",
    "    print(t)\n",
    "    corner_single(t, t_str, c, 'log_uniform', save=True)"
   ]
  },
  {
   "cell_type": "code",
   "execution_count": null,
   "id": "e9463d5f",
   "metadata": {},
   "outputs": [],
   "source": [
    "plt.close('all')"
   ]
  },
  {
   "cell_type": "markdown",
   "id": "efa8a7ad",
   "metadata": {},
   "source": [
    "## Log-normal priors"
   ]
  },
  {
   "cell_type": "code",
   "execution_count": null,
   "id": "4d33332d",
   "metadata": {},
   "outputs": [],
   "source": [
    "# Use the already compiled target names for this\n",
    "target_paths = [f'{outdir_path}/{dataset}/{t}' for t in target_strs]"
   ]
  },
  {
   "cell_type": "code",
   "execution_count": null,
   "id": "2190df83",
   "metadata": {},
   "outputs": [],
   "source": [
    "c = {}\n",
    "for t, tp in zip(targets[len(c.keys()):], target_paths[len(c.keys()):]):\n",
    "    print(t)\n",
    "    c[t] = co.Core(corepath=f'{tp}/core.h5', label=t)"
   ]
  },
  {
   "cell_type": "code",
   "execution_count": null,
   "id": "6d141ccf",
   "metadata": {},
   "outputs": [],
   "source": [
    "for t, tp in zip(targets, target_paths):\n",
    "    prior_path = glob.glob(tp + '/*/priors.txt')[0]\n",
    "    c[t].priors = np.loadtxt(prior_path, dtype=str, delimiter='\\t')\n",
    "    info_path = glob.glob(tp + '/*/runtime_info.txt')[0]\n",
    "    c[t].runtime_info = np.loadtxt(info_path, dtype=str, delimiter='\\t')"
   ]
  },
  {
   "cell_type": "code",
   "execution_count": null,
   "id": "7f2c1e97",
   "metadata": {
    "scrolled": true
   },
   "outputs": [],
   "source": [
    "# append param name\n",
    "for t in targets:\n",
    "    if 'log10_h0' in c[t].params:\n",
    "        print('skipping', t, 'params')\n",
    "    else:\n",
    "        print('adding', t, 'params')\n",
    "        c[t].params.append('log10_h0')\n",
    "\n",
    "# append chain and prior\n",
    "for t in targets:\n",
    "    if len(c[t].params) == c[t].chain.shape[1]:\n",
    "        print('skipping', t, 'chain')\n",
    "    else:\n",
    "        print('adding', t, 'chain')\n",
    "        # log10_fgw\n",
    "        line = [c[t].runtime_info[i] for i in range(len(c[t].runtime_info))\n",
    "                if 'log10_fgw' in c[t].runtime_info[i]][0]\n",
    "        log10_fgw = float(line.replace('log10_fgw:Constant=',''))\n",
    "        # log10_dL\n",
    "        line = [c[t].runtime_info[i] for i in range(len(c[t].runtime_info))\n",
    "                if 'log10_dL' in c[t].runtime_info[i]][0]\n",
    "        log10_dL = float(line.replace('log10_dL:Constant=',''))\n",
    "        log10_dL_scaled = log10_dL + np.log10(u.Mpc.to(u.m)/c_light)\n",
    "        # log10_mc chain\n",
    "        log10_mc = c[t]('log10_mc',to_burn=False)\n",
    "        log10_mc_scaled = log10_mc + np.log10(u.Msun.to(u.kg)*G/c_light**3)\n",
    "        # calculate strain\n",
    "        log10_h0 = 5*log10_mc_scaled/3 + 2*log10_fgw/3 - log10_dL_scaled + np.log10(2*np.pi)\n",
    "        c[t].chain = np.vstack([c[t].chain.T,log10_h0]).T\n",
    "\n",
    "# append prior - adjust for log-normal prior\n",
    "for t in targets:\n",
    "    if len(c[t].priors) == len(c[t].params) - 4:\n",
    "        print('skipping', t, 'priors')\n",
    "    else:\n",
    "        print('adding', t, 'priors')\n",
    "        # log10_fgw\n",
    "        line = [c[t].runtime_info[i] for i in range(len(c[t].runtime_info))\n",
    "                if 'log10_fgw' in c[t].runtime_info[i]][0]\n",
    "        log10_fgw = float(line.replace('log10_fgw:Constant=',''))\n",
    "        # log10_dL\n",
    "        line = [c[t].runtime_info[i] for i in range(len(c[t].runtime_info))\n",
    "                if 'log10_dL' in c[t].runtime_info[i]][0]\n",
    "        log10_dL = float(line.replace('log10_dL:Constant=',''))\n",
    "        log10_dL_scaled = log10_dL + np.log10(u.Mpc.to(u.m)/c_light)\n",
    "        # get log10_mc prior\n",
    "        pline = [p for p in c[t].priors if 'log10_mc' in p][0]\n",
    "        log10_mc_mu = float(pline[pline.index('mu')+3:pline.index(', sigma')])\n",
    "        log10_mc_sigma = float(pline[pline.index('sigma')+6:-1])\n",
    "        #log10_mc_prior = np.array([pmin, pmax])\n",
    "        log10_h0_mu = (5*(log10_mc_mu + np.log10(u.Msun.to(u.kg)*G/c_light**3))/3 +\n",
    "                       2*log10_fgw/3 - log10_dL_scaled + np.log10(2*np.pi))\n",
    "        r = ((np.max(c[t].chain[:,c[t].params.index('log10_h0')]) -\n",
    "              np.min(c[t].chain[:,c[t].params.index('log10_h0')]))/\n",
    "             (np.max(c[t].chain[:,c[t].params.index('log10_mc')]) -\n",
    "              np.min(c[t].chain[:,c[t].params.index('log10_mc')])))\n",
    "        log10_h0_sigma = r*log10_mc_sigma\n",
    "        #log10_h0_prior_dist = sps.norm(loc=log10_h0_mu, scale=log10_h0_sigma)\n",
    "        log10_h0_prior_str = f'log10_h0:Normal(mu={log10_h0_mu}, sigma={log10_h0_sigma})'\n",
    "        c[t].priors = np.concatenate([c[t].priors, [log10_h0_prior_str]])"
   ]
  },
  {
   "cell_type": "code",
   "execution_count": null,
   "id": "415bd5f6",
   "metadata": {},
   "outputs": [],
   "source": [
    "idx_start = 14\n",
    "idx_end = 15\n",
    "for t, t_str in zip(targets[idx_start:idx_end], target_strs[idx_start:idx_end]):\n",
    "    print(t)\n",
    "    corner_single(t, t_str, c, 'log_normal', save=True)"
   ]
  },
  {
   "cell_type": "code",
   "execution_count": null,
   "id": "cf61d4cc",
   "metadata": {},
   "outputs": [],
   "source": [
    "idx_start = 0\n",
    "idx_end = 3\n",
    "for t, t_str in zip(targets[idx_start:idx_end], target_strs[idx_start:idx_end]):\n",
    "    print(t)\n",
    "    corner_single(t, t_str, c, 'log_normal', save=True)"
   ]
  },
  {
   "cell_type": "code",
   "execution_count": null,
   "id": "4877249a",
   "metadata": {},
   "outputs": [],
   "source": [
    "idx_start = 3\n",
    "idx_end = 6\n",
    "for t, t_str in zip(targets[idx_start:idx_end], target_strs[idx_start:idx_end]):\n",
    "    print(t)\n",
    "    corner_single(t, t_str, c, 'log_normal', save=True)"
   ]
  },
  {
   "cell_type": "code",
   "execution_count": null,
   "id": "cf907001",
   "metadata": {},
   "outputs": [],
   "source": [
    "idx_start = 6\n",
    "idx_end = 9\n",
    "for t, t_str in zip(targets[idx_start:idx_end], target_strs[idx_start:idx_end]):\n",
    "    print(t)\n",
    "    corner_single(t, t_str, c, 'log_normal', save=True)"
   ]
  },
  {
   "cell_type": "code",
   "execution_count": null,
   "id": "5d27f0b2",
   "metadata": {},
   "outputs": [],
   "source": [
    "idx_start = 9\n",
    "idx_end = 12\n",
    "for t, t_str in zip(targets[idx_start:idx_end], target_strs[idx_start:idx_end]):\n",
    "    print(t)\n",
    "    corner_single(t, t_str, c, 'log_normal', save=True)"
   ]
  },
  {
   "cell_type": "code",
   "execution_count": null,
   "id": "48632b3d",
   "metadata": {},
   "outputs": [],
   "source": [
    "idx_start = 12\n",
    "idx_end = 15\n",
    "for t, t_str in zip(targets[idx_start:idx_end], target_strs[idx_start:idx_end]):\n",
    "    print(t)\n",
    "    corner_single(t, t_str, c, 'log_normal', save=True)"
   ]
  },
  {
   "cell_type": "code",
   "execution_count": null,
   "id": "04bdacfc",
   "metadata": {
    "scrolled": true
   },
   "outputs": [],
   "source": [
    "idx_start = 15\n",
    "idx_end = None\n",
    "for t, t_str in zip(targets[idx_start:idx_end], target_strs[idx_start:idx_end]):\n",
    "    print(t)\n",
    "    fig = corner_single(t, t_str, c, 'log_normal', save=True)"
   ]
  },
  {
   "cell_type": "code",
   "execution_count": null,
   "id": "767dbe50",
   "metadata": {},
   "outputs": [],
   "source": [
    "plt.close('all')"
   ]
  },
  {
   "cell_type": "markdown",
   "id": "e45f08ff",
   "metadata": {},
   "source": [
    "## HS 1630 12.5 year vs 15yr"
   ]
  },
  {
   "cell_type": "code",
   "execution_count": null,
   "id": "94606050",
   "metadata": {},
   "outputs": [],
   "source": [
    "model_labels = ['12.5 yr', '15 yr']\n",
    "datasets = ['ng12p5', 'ng15_v1p1']\n",
    "target = 'HS_1630+2355'\n",
    "target_paths = [f'{outdir_path}/{datasets[0]}/HS_1630+2355_det',\n",
    "                f'{outdir_path}/{datasets[1]}/HS_1630+2355_det']"
   ]
  },
  {
   "cell_type": "code",
   "execution_count": null,
   "id": "1f7250af",
   "metadata": {},
   "outputs": [],
   "source": [
    "c = {}\n",
    "for ds, tp in zip(datasets, target_paths):\n",
    "    print(ds)\n",
    "    c[ds] = co.Core(corepath=f'{tp}/core.h5', label=ds, burn=0)"
   ]
  },
  {
   "cell_type": "code",
   "execution_count": null,
   "id": "03b908c2",
   "metadata": {},
   "outputs": [],
   "source": [
    "fig, ax = plt.subplots(figsize=(4,3))\n",
    "for ds, color, ml in zip(datasets, ['C0','k'], model_labels):\n",
    "    # get BF\n",
    "    pline = [p for p in c[ds].priors if 'log10_mc' in p][0]\n",
    "    pmin = float(pline[pline.index('pmin')+5:pline.index(',')])\n",
    "    pmax = float(pline[pline.index('pmax')+5:pline.index(')')])\n",
    "    BF = gorilla_bf(c[ds]('log10_mc'), min=pmin, max=pmax, nbins=nbins)\n",
    "    ax.hist(c[ds]('log10_mc'), color=color, histtype='step', density=True, bins=20,\n",
    "            range=[pmin,pmax], label=ml+f' (BF = {BF:1.2f})', lw=2)\n",
    "x, y = pp.get_prior_distr(c[ds], 'log10_mc')\n",
    "ax.plot(x, y, 'C2', rasterized=True, label='prior')\n",
    "ax.legend(fontsize='medium')\n",
    "ax.set_xlabel(r'$\\log_{10}(\\mathcal{M}_c/\\rm{M}_\\odot)$')\n",
    "ax.set_ylabel('PDF')\n",
    "ax.set_xlim([pmin,pmax])\n",
    "ax.set_title('HS 1630+2355 (detection priors)')\n",
    "fig.savefig(f'{save_loc}/HS_1630+2355_det_compare_datasets.pdf', format='pdf', dpi=600)\n",
    "plt.show()"
   ]
  },
  {
   "cell_type": "code",
   "execution_count": null,
   "id": "bff47509",
   "metadata": {},
   "outputs": [],
   "source": [
    "fig, ax = plt.subplots(figsize=(4,3))\n",
    "for ds, color, ml in zip(datasets, ['C0','k'], model_labels):\n",
    "    # get ranges\n",
    "    pline = [p for p in c[ds].priors if 'mc' in p and not 'log10' in p][0]\n",
    "    pmin = float(pline[pline.index('pmin')+5:pline.index(',')])\n",
    "    pmax = float(pline[pline.index('pmax')+5:pline.index(')')])\n",
    "    # get UL\n",
    "    ln_weights = utils.get_prior_log_weights(c[ds]('log10_mc'))\n",
    "    mc_UL = utils.weighted_quantile(c[ds]('mc'), 0.95, sample_weight=np.exp(ln_weights))\n",
    "    ax.hist(c[ds]('mc')/1e9, color=color, histtype='step', density=True, bins=20, weights=np.exp(ln_weights),\n",
    "            label=ml+fr' ($\\mathcal{{M}}_c$ UL = {mc_UL/1e9:2.1f} $\\times10^9$ $\\rm{{M}}_\\odot$)', lw=2)\n",
    "    ax.axvline(mc_UL/1e9, color=color)\n",
    "#x, y = pp.get_prior_distr(c[ds], 'mc')\n",
    "xlim = ax.get_xlim()\n",
    "#ax.plot(x, y, 'C2', rasterized=True, label='prior')\n",
    "ax.legend(fontsize='small')\n",
    "ax.set_xlabel(r'$\\mathcal{M}_c$ [$10^9$ $\\rm{M}_\\odot$]')\n",
    "ax.set_ylabel('PDF')\n",
    "ax.set_xlim([0,xlim[1]])\n",
    "ax.set_title('HS 1630+2355 (upper limit priors)')\n",
    "fig.savefig(f'{save_loc}/HS_1630+2355_UL_compare_datasets.pdf', format='pdf', dpi=600)\n",
    "plt.show()"
   ]
  },
  {
   "cell_type": "code",
   "execution_count": null,
   "id": "8fd8d158",
   "metadata": {
    "scrolled": true
   },
   "outputs": [],
   "source": [
    "dg.plot_chains([c['ng12p5'], c['ng15_v1p1']], pars=c['ng12p5'].params[:100], legend_labels=model_labels, ncols=4)"
   ]
  },
  {
   "cell_type": "code",
   "execution_count": null,
   "id": "da5a3808",
   "metadata": {},
   "outputs": [],
   "source": [
    "dg.plot_chains([c['ng12p5'], c['ng15_v1p1']], pars=c['ng12p5'].params[100:], legend_labels=model_labels, ncols=4)"
   ]
  },
  {
   "cell_type": "markdown",
   "id": "ecedfc4b",
   "metadata": {},
   "source": [
    "## NGC 3115 std vs 6 pulsar adv noise models"
   ]
  },
  {
   "cell_type": "code",
   "execution_count": null,
   "id": "7884ebf3",
   "metadata": {},
   "outputs": [],
   "source": [
    "from la_forge.rednoise import gorilla_bf"
   ]
  },
  {
   "cell_type": "code",
   "execution_count": null,
   "id": "63c7807a",
   "metadata": {},
   "outputs": [],
   "source": [
    "model_labels = ['NGC 3115 @ 49 nHz w/ std noise', 'NGC 3115 @ 49 nHz w/ std + 6 psr custom noise']\n",
    "datasets = ['ng15_v1p1', 'ng15_v1p1_custom6']\n",
    "target = 'NGC_3115'\n",
    "target_paths = [f'{outdir_path}/{datasets[0]}/NGC_3115_49nHz_det',\n",
    "                f'{outdir_path}/{datasets[1]}/NGC_3115_49nHz_det_varycrn_fixedpoint']"
   ]
  },
  {
   "cell_type": "code",
   "execution_count": null,
   "id": "5341b831",
   "metadata": {},
   "outputs": [],
   "source": [
    "c = {}\n",
    "for ds, tp in zip(datasets, target_paths):\n",
    "    print(ds)\n",
    "    c[ds] = co.Core(corepath=f'{tp}/core.h5', label=ds)"
   ]
  },
  {
   "cell_type": "code",
   "execution_count": null,
   "id": "4fe7ca80",
   "metadata": {},
   "outputs": [],
   "source": [
    "save = True\n",
    "\n",
    "BFs = {}\n",
    "amp_param = 'log10_h0'\n",
    "nbins = 6\n",
    "pars_select = ['cos_inc', 'log10_h0', 'log10_mc']\n",
    "#units = ['rad', 'rad', 'rad', 'calculated', r'$M_\\odot$']\n",
    "titles = [r'$\\cos\\iota$', r'$\\log_{10}h_0$', r'$\\log_{10}\\mathcal{M}_c$']\n",
    "labels = [r'$\\cos\\iota$', r'$\\log_{10}h_0$', r'$\\log_{10}(\\mathcal{M}_c/\\rm{M}_\\odot)$']\n",
    "quantiles = [0.16,0.5,0.84]\n",
    "\n",
    "# plot\n",
    "#labels = np.copy(titles)#[p+' \\n ('+u+')' if u else p+' \\n' for p,u in zip(titles, units)]\n",
    "#labels[-1] = labels[-1] + r' [$M_\\odot$]'\n",
    "lines = []\n",
    "ds = datasets[0]\n",
    "idxs = [c[ds].params.index(p) for p in pars_select]\n",
    "fig = corner.corner(c[ds].chain[c[ds].burn:, idxs], labels=labels,\n",
    "                    plot_density=True, color='C0', plot_datapoints=False,\n",
    "                    #quantiles=quantiles, title_quantiles=quantiles,\n",
    "                    hist_kwargs={'density':True}, rasterized=True, levels=(0.68, 0.95),\n",
    "                    #titles=titles, show_titles=True, levels=(0.68, 0.95),\n",
    "                    label_kwargs={'fontsize': 20}, title_kwargs={'fontsize': 14, 'color':'C0'})\n",
    "# get BF\n",
    "pline = [p for p in c[ds].priors if amp_param in p][0]\n",
    "pmin = float(pline[pline.index('pmin')+5:pline.index(',')])\n",
    "pmax = float(pline[pline.index('pmax')+5:pline.index(')')])\n",
    "BFs[ds] = gorilla_bf(c[ds](amp_param), min=pmin, max=pmax, nbins=nbins)\n",
    "lines.append(mlines.Line2D([],[],c='C0',label=model_labels[0]+\n",
    "                           '\\n'+f'BF = {np.round(BFs[ds],decimals=2)}'))\n",
    "\n",
    "ds = datasets[1]\n",
    "idxs = [c[ds].params.index(p) for p in pars_select]\n",
    "fig = corner.corner(c[ds].chain[c[ds].burn:, idxs], fig=fig,#labels=labels,\n",
    "                    plot_density=False, color='k', plot_datapoints=False,\n",
    "                    no_fill_contours=True, rasterized=True,\n",
    "                    titles=titles, show_titles=True,\n",
    "                    #quantiles=quantiles, title_quantiles=quantiles,\n",
    "                    hist_kwargs={'density':True}, levels=(0.68, 0.95))\n",
    "# get BF\n",
    "pline = [p for p in c[ds].priors if amp_param in p][0]\n",
    "pmin = float(pline[pline.index('pmin')+5:pline.index(',')])\n",
    "pmax = float(pline[pline.index('pmax')+5:pline.index(')')])\n",
    "BFs[ds] = gorilla_bf(c[ds](amp_param), min=pmin, max=pmax, nbins=nbins)\n",
    "lines.append(mlines.Line2D([],[],c='k',label=model_labels[1]+\n",
    "                           '\\n'+f'BF = {np.round(BFs[ds],decimals=2)}'))\n",
    "fig.legend(handles=lines, fontsize='medium')\n",
    "\n",
    "# Extract the axes\n",
    "axes = np.array(fig.axes).reshape((len(idxs), len(idxs)))\n",
    "\n",
    "# Loop over the diagonal\n",
    "for i, p in enumerate(pars_select):\n",
    "    ax = axes[i, i]\n",
    "    x, y = pp.get_prior_distr(c[ds], p)\n",
    "    ax.plot(x, y, 'C2', rasterized=True)\n",
    "    ax.set_xlim([x.min(),x.max()])\n",
    "    if p == amp_param:\n",
    "        bins = np.linspace(pmin, pmax, nbins+1)\n",
    "        ax.axvspan(bins[0], bins[1], color='k', alpha=0.1)\n",
    "# Loop over the histograms\n",
    "for yi, p1 in enumerate(pars_select): # rows\n",
    "    for xi, p2 in enumerate(pars_select[:yi]): # cols\n",
    "        ax = axes[yi, xi]\n",
    "        y, _ = pp.get_prior_distr(c[ds], p1)\n",
    "        x, _ = pp.get_prior_distr(c[ds], p2)\n",
    "        ax.set_xlim([x.min(),x.max()])\n",
    "        ax.set_ylim([y.min(),y.max()])\n",
    "if save:\n",
    "    fig.savefig(f'{save_loc}/49nHz_noise_compare.pdf', format='pdf', dpi=600)"
   ]
  },
  {
   "cell_type": "markdown",
   "id": "bcc46699",
   "metadata": {},
   "source": [
    "## NGC 3115 std vs 6 pulsar adv noise models at varied frequency"
   ]
  },
  {
   "cell_type": "code",
   "execution_count": null,
   "id": "b0209892",
   "metadata": {},
   "outputs": [],
   "source": [
    "model_labels = ['w/ std noise', 'w/ std + 6 pulsar custom noise']\n",
    "datasets = ['ng15_v1p1', 'ng15_v1p1_custom6']\n",
    "target = 'NGC_3115'\n",
    "target_paths = [f'{outdir_path}/{datasets[0]}/NGC_3115_det_varyfgw',\n",
    "                f'{outdir_path}/{datasets[1]}/NGC_3115_det_varyfgw_varycrn_fixedpoint']"
   ]
  },
  {
   "cell_type": "code",
   "execution_count": null,
   "id": "f967e1fd",
   "metadata": {},
   "outputs": [],
   "source": [
    "c = {}\n",
    "for ds, tp in zip(datasets, target_paths):\n",
    "    print(ds)\n",
    "    c[ds] = co.Core(corepath=f'{tp}/core.h5', label=ds)"
   ]
  },
  {
   "cell_type": "code",
   "execution_count": null,
   "id": "6c272743",
   "metadata": {},
   "outputs": [],
   "source": [
    "save = True\n",
    "\n",
    "pars_select = ['log10_fgw', 'cos_inc', 'log10_h0', 'log10_mc']\n",
    "#units = ['rad', 'rad', 'rad', 'calculated', r'$M_\\odot$']\n",
    "titles = [r'$\\log_{10}f_{\\rm{GW}}$', r'$\\cos\\iota$', r'$\\log_{10}h_0$',\n",
    "          r'$\\log_{10}\\mathcal{M}_c$']\n",
    "labels = [r'$\\log_{10}f_{\\rm{GW}}$ [Hz]', r'$\\cos\\iota$', r'$\\log_{10}h_0$',\n",
    "          r'$\\log_{10}\\mathcal{M}_c$ [$M_\\odot$]']\n",
    "quantiles = [0.16,0.5,0.84]\n",
    "\n",
    "# plot\n",
    "#labels = np.copy(titles)#[p+' \\n ('+u+')' if u else p+' \\n' for p,u in zip(titles, units)]\n",
    "#labels[-1] = labels[-1] + r' [$M_\\odot$]'\n",
    "lines = []\n",
    "ds = datasets[0]\n",
    "idxs = [c[ds].params.index(p) for p in pars_select]\n",
    "fig = corner.corner(c[ds].chain[c[ds].burn:, idxs], labels=labels,\n",
    "                    plot_density=True, color='C0', plot_datapoints=False,\n",
    "                    #quantiles=quantiles, title_quantiles=quantiles,\n",
    "                    hist_kwargs={'density':True}, rasterized=True, levels=(0.68, 0.95),\n",
    "                    #titles=titles, show_titles=True, levels=(0.68, 0.95),\n",
    "                    label_kwargs={'fontsize': 20}, title_kwargs={'fontsize': 14, 'color':'C0'})\n",
    "lines.append(mlines.Line2D([],[],c='C0',label=model_labels[0]))\n",
    "ds = datasets[1]\n",
    "idxs = [c[ds].params.index(p) for p in pars_select]\n",
    "fig = corner.corner(c[ds].chain[c[ds].burn:, idxs], fig=fig,#labels=labels,\n",
    "                    plot_density=False, color='k', plot_datapoints=False,\n",
    "                    no_fill_contours=True, rasterized=True,\n",
    "                    titles=titles, show_titles=True,\n",
    "                    #quantiles=quantiles, title_quantiles=quantiles,\n",
    "                    hist_kwargs={'density':True}, levels=(0.68, 0.95))\n",
    "lines.append(mlines.Line2D([],[],c='k',label=model_labels[1]))\n",
    "fig.legend(handles=lines, fontsize='xx-large')\n",
    "\n",
    "# Extract the axes\n",
    "axes = np.array(fig.axes).reshape((len(idxs), len(idxs)))\n",
    "\n",
    "# Loop over the diagonal\n",
    "for i, p in enumerate(pars_select):\n",
    "    ax = axes[i, i]\n",
    "    x, y = pp.get_prior_distr(c[ds], p)\n",
    "    ax.plot(x, y, 'C2', rasterized=True)\n",
    "    ax.set_xlim([x.min(),x.max()])\n",
    "# Loop over the histograms\n",
    "for yi, p1 in enumerate(pars_select): # rows\n",
    "    for xi, p2 in enumerate(pars_select[:yi]): # cols\n",
    "        ax = axes[yi, xi]\n",
    "        y, _ = pp.get_prior_distr(c[ds], p1)\n",
    "        x, _ = pp.get_prior_distr(c[ds], p2)\n",
    "        ax.set_xlim([x.min(),x.max()])\n",
    "        ax.set_ylim([y.min(),y.max()])\n",
    "if save:\n",
    "    fig.savefig(f'{save_loc}/noise_compare.pdf', format='pdf', dpi=600)"
   ]
  },
  {
   "cell_type": "code",
   "execution_count": null,
   "id": "986bd760",
   "metadata": {},
   "outputs": [],
   "source": []
  },
  {
   "cell_type": "markdown",
   "id": "b47d0497",
   "metadata": {},
   "source": [
    "## NGC 3115 std vs pulsars removed"
   ]
  },
  {
   "cell_type": "code",
   "execution_count": null,
   "id": "036c3a33",
   "metadata": {},
   "outputs": [],
   "source": [
    "model_labels = ['Full PTA', 'PSR J1024-0719 removed', 'PSR J1012+5307 removed', 'PSR J1713+0747 removed']\n",
    "datasets = ['ng15_v1p1', 'ng15_v1p1_dropJ1024', 'ng15_v1p1_dropJ1012', 'ng15_v1p1_dropJ1713']\n",
    "target = 'NGC_3115'\n",
    "target_paths = [f'{outdir_path}/{dataset}/NGC_3115_det_varyfgw' for dataset in datasets]"
   ]
  },
  {
   "cell_type": "code",
   "execution_count": null,
   "id": "d3215a01",
   "metadata": {},
   "outputs": [],
   "source": [
    "c = {}\n",
    "for ds, tp in zip(datasets, target_paths):\n",
    "    print(ds)\n",
    "    c[ds] = co.Core(corepath=f'{tp}/core.h5', label=ds)"
   ]
  },
  {
   "cell_type": "code",
   "execution_count": null,
   "id": "4158ccf9",
   "metadata": {},
   "outputs": [],
   "source": [
    "save = True\n",
    "\n",
    "pars_select = ['log10_fgw', 'cos_inc', 'log10_h0', 'log10_mc']\n",
    "#units = ['rad', 'rad', 'rad', 'calculated', r'$M_\\odot$']\n",
    "titles = [r'$\\log_{10}f_{\\rm{GW}}$', r'$\\cos\\iota$', r'$\\log_{10}h_0$',\n",
    "          r'$\\log_{10}\\mathcal{M}_c$']\n",
    "labels = [r'$\\log_{10}f_{\\rm{GW}}$ [Hz]', r'$\\cos\\iota$', r'$\\log_{10}h_0$',\n",
    "          r'$\\log_{10}\\mathcal{M}_c$ [$M_\\odot$]']\n",
    "quantiles = [0.16,0.5,0.84]\n",
    "\n",
    "# plot\n",
    "#labels = np.copy(titles)#[p+' \\n ('+u+')' if u else p+' \\n' for p,u in zip(titles, units)]\n",
    "#labels[-1] = labels[-1] + r' [$M_\\odot$]'\n",
    "lines = []\n",
    "ds = datasets[0]\n",
    "BF = np.round(pp.get_bayes_fac(c[ds]), decimals=2)\n",
    "idxs = [c[ds].params.index(p) for p in pars_select]\n",
    "fig = corner.corner(c[ds].chain[c[ds].burn:, idxs], labels=labels,\n",
    "                    plot_density=True, color='k', plot_datapoints=False,\n",
    "                    #quantiles=quantiles, title_quantiles=quantiles,\n",
    "                    hist_kwargs={'density':True}, rasterized=True, levels=(0.68, 0.95),\n",
    "                    #titles=titles, show_titles=True, levels=(0.68, 0.95),\n",
    "                    label_kwargs={'fontsize': 20}, title_kwargs={'fontsize': 14, 'color':'C0'})\n",
    "lines.append(mlines.Line2D([],[],c='k',label=f'{model_labels[0]} | BF = {BF}'))\n",
    "for i in range(1,len(datasets)):\n",
    "    ds = datasets[i]\n",
    "    color = f'C{i-1}'\n",
    "    BF = np.round(pp.get_bayes_fac(c[ds]), decimals=2)\n",
    "    idxs = [c[ds].params.index(p) for p in pars_select]\n",
    "    fig = corner.corner(c[ds].chain[c[ds].burn:, idxs], fig=fig,#labels=labels,\n",
    "                        plot_density=False, color=color, plot_datapoints=False,\n",
    "                        no_fill_contours=True, rasterized=True,\n",
    "                        titles=titles, show_titles=True,\n",
    "                        #quantiles=quantiles, title_quantiles=quantiles,\n",
    "                        hist_kwargs={'density':True}, levels=(0.68, 0.95))\n",
    "    lines.append(mlines.Line2D([],[],c=color,label=f'{model_labels[i]} | BF = {BF}'))\n",
    "fig.legend(handles=lines, fontsize='xx-large')\n",
    "\n",
    "# Extract the axes\n",
    "axes = np.array(fig.axes).reshape((len(idxs), len(idxs)))\n",
    "\n",
    "# Loop over the diagonal\n",
    "for i, p in enumerate(pars_select):\n",
    "    ax = axes[i, i]\n",
    "    x, y = pp.get_prior_distr(c[ds], p)\n",
    "    ax.plot(x, y, 'k', alpha=0.5, lw=1, linestyle='dashed', rasterized=True)\n",
    "    ax.set_xlim([x.min(),x.max()])\n",
    "# Loop over the histograms\n",
    "for yi, p1 in enumerate(pars_select): # rows\n",
    "    for xi, p2 in enumerate(pars_select[:yi]): # cols\n",
    "        ax = axes[yi, xi]\n",
    "        y, _ = pp.get_prior_distr(c[ds], p1)\n",
    "        x, _ = pp.get_prior_distr(c[ds], p2)\n",
    "        ax.set_xlim([x.min(),x.max()])\n",
    "        ax.set_ylim([y.min(),y.max()])\n",
    "if save:\n",
    "    fig.savefig(f'{save_loc}/datasets_compare.pdf', format='pdf', dpi=600)"
   ]
  },
  {
   "cell_type": "markdown",
   "id": "b61be055",
   "metadata": {},
   "source": [
    "## HS 1630, Real vs alt sky location"
   ]
  },
  {
   "cell_type": "code",
   "execution_count": null,
   "id": "2fa2d423",
   "metadata": {},
   "outputs": [],
   "source": [
    "targets = ['Real sky location', 'Alt sky location']\n",
    "t_str = 'HS_1630+2355'\n",
    "target_paths = glob.glob(f'{outdir_path}/{dataset}/{t_str}*UL')\n",
    "target_paths"
   ]
  },
  {
   "cell_type": "code",
   "execution_count": null,
   "id": "1824a5a8",
   "metadata": {},
   "outputs": [],
   "source": [
    "c = {}\n",
    "for t, tp in zip(targets[len(c.keys()):], target_paths[len(c.keys()):]):\n",
    "    print(t)\n",
    "    c[t] = co.Core(corepath=f'{tp}/core.h5', label=t)"
   ]
  },
  {
   "cell_type": "code",
   "execution_count": null,
   "id": "fa4c14e4",
   "metadata": {},
   "outputs": [],
   "source": [
    "for t, tp in zip(targets, target_paths):\n",
    "    prior_path = glob.glob(tp + '/*/priors.txt')[0]\n",
    "    c[t].priors = np.loadtxt(prior_path, dtype=str, delimiter='\\t')\n",
    "    info_path = glob.glob(tp + '/*/runtime_info.txt')[0]\n",
    "    c[t].runtime_info = np.loadtxt(info_path, dtype=str, delimiter='\\t')"
   ]
  },
  {
   "cell_type": "code",
   "execution_count": null,
   "id": "dab78a78",
   "metadata": {
    "scrolled": true
   },
   "outputs": [],
   "source": [
    "# append param name\n",
    "for t in targets:\n",
    "    if 'log10_h0' in c[t].params:\n",
    "        print('skipping', t, 'params')\n",
    "    else:\n",
    "        print('adding', t, 'params')\n",
    "        c[t].params.append('log10_h0')\n",
    "\n",
    "# append chain and prior\n",
    "for t in targets:\n",
    "    if len(c[t].params) == c[t].chain.shape[1]:\n",
    "        print('skipping', t, 'chain')\n",
    "    else:\n",
    "        print('adding', t, 'chain')\n",
    "        # log10_fgw\n",
    "        line = [c[t].runtime_info[i] for i in range(len(c[t].runtime_info))\n",
    "                if 'log10_fgw' in c[t].runtime_info[i]][0]\n",
    "        log10_fgw = float(line.replace('log10_fgw:Constant=',''))\n",
    "        # log10_dL\n",
    "        line = [c[t].runtime_info[i] for i in range(len(c[t].runtime_info))\n",
    "                if 'log10_dL' in c[t].runtime_info[i]][0]\n",
    "        log10_dL = float(line.replace('log10_dL:Constant=',''))\n",
    "        log10_dL_scaled = log10_dL + np.log10(u.Mpc.to(u.m)/c_light)\n",
    "        # log10_mc chain\n",
    "        log10_mc = c[t]('log10_mc',to_burn=False)\n",
    "        log10_mc_scaled = log10_mc + np.log10(u.Msun.to(u.kg)*G/c_light**3)\n",
    "        # calculate strain\n",
    "        log10_h0 = 5*log10_mc_scaled/3 + 2*log10_fgw/3 - log10_dL_scaled + np.log10(2*np.pi)\n",
    "        c[t].chain = np.vstack([c[t].chain.T,log10_h0]).T\n",
    "\n",
    "# append prior\n",
    "for t in targets:\n",
    "    if len(c[t].priors) == len(c[t].params) - 4:\n",
    "        print('skipping', t, 'priors')\n",
    "    else:\n",
    "        print('adding', t, 'priors')\n",
    "        # log10_fgw\n",
    "        line = [c[t].runtime_info[i] for i in range(len(c[t].runtime_info))\n",
    "                if 'log10_fgw' in c[t].runtime_info[i]][0]\n",
    "        log10_fgw = float(line.replace('log10_fgw:Constant=',''))\n",
    "        # log10_dL\n",
    "        line = [c[t].runtime_info[i] for i in range(len(c[t].runtime_info))\n",
    "                if 'log10_dL' in c[t].runtime_info[i]][0]\n",
    "        log10_dL = float(line.replace('log10_dL:Constant=',''))\n",
    "        log10_dL_scaled = log10_dL + np.log10(u.Mpc.to(u.m)/c_light)\n",
    "        # get log10_mc prior\n",
    "        pline = [p for p in c[t].priors if 'log10_mc' in p][0]\n",
    "        pmin = float(pline[pline.index('pmin')+5:pline.index(', pmax')])\n",
    "        pmax = float(pline[pline.index('pmax')+5:-1])\n",
    "        log10_mc_prior = np.array([pmin, pmax])\n",
    "        log10_mc_prior_scaled = log10_mc_prior + np.log10(u.Msun.to(u.kg)*G/c_light**3)\n",
    "        # calculate strain prior\n",
    "        log10_h0_prior = 5*log10_mc_prior_scaled/3 + 2*log10_fgw/3 - log10_dL_scaled + np.log10(2*np.pi)\n",
    "        log10_h0_prior_str = f'log10_h0:Uniform(pmin={log10_h0_prior[0]}, pmax={log10_h0_prior[1]})'\n",
    "        c[t].priors = np.concatenate([c[t].priors, [log10_h0_prior_str]])"
   ]
  },
  {
   "cell_type": "code",
   "execution_count": null,
   "id": "a7de6194",
   "metadata": {},
   "outputs": [],
   "source": [
    "save = True\n",
    "\n",
    "pars_select = ['cos_inc','phase0','psi', 'log10_h0', 'log10_mc']\n",
    "#units = ['rad', 'rad', 'rad', 'calculated', r'$M_\\odot$']\n",
    "titles = [r'$\\cos\\iota$', '$\\Phi_0$', r'$\\psi$', r'$\\log_{10}h_0$', r'$\\log_{10}\\mathcal{M}_c$']\n",
    "labels = [r'$\\cos\\iota$', '$\\Phi_0$', r'$\\psi$', r'$\\log_{10}h_0$', r'$\\log_{10}\\mathcal{M}_c$ [$M_\\odot$]']\n",
    "quantiles = [0.16,0.5,0.84]\n",
    "\n",
    "# plot\n",
    "#labels = np.copy(titles)#[p+' \\n ('+u+')' if u else p+' \\n' for p,u in zip(titles, units)]\n",
    "#labels[-1] = labels[-1] + r' [$M_\\odot$]'\n",
    "lines = []\n",
    "t = targets[0]\n",
    "idxs = [c[t].params.index(p) for p in pars_select]\n",
    "fig = corner.corner(c[t].chain[c[t].burn:, idxs], labels=labels,\n",
    "                    plot_density=True, color='C0', plot_datapoints=False,\n",
    "                    #quantiles=quantiles, title_quantiles=quantiles,\n",
    "                    hist_kwargs={'density':True},\n",
    "                    titles=titles, show_titles=True, levels=(0.68, 0.95),\n",
    "                    label_kwargs={'fontsize': 20}, title_kwargs={'fontsize': 14})\n",
    "lines.append(mlines.Line2D([],[],c='C0',label=t))\n",
    "t = targets[1]\n",
    "idxs = [c[t].params.index(p) for p in pars_select]\n",
    "fig = corner.corner(c[t].chain[c[t].burn:, idxs], fig=fig,#labels=labels,\n",
    "                    plot_density=False, color='k', plot_datapoints=False,\n",
    "                    no_fill_contours=True,\n",
    "                    #quantiles=quantiles, title_quantiles=quantiles,\n",
    "                    hist_kwargs={'density':True}, levels=(0.68, 0.95))\n",
    "lines.append(mlines.Line2D([],[],c='k',label=t))\n",
    "fig.legend(handles=lines, fontsize='xx-large')\n",
    "\n",
    "# Extract the axes\n",
    "axes = np.array(fig.axes).reshape((len(idxs), len(idxs)))\n",
    "\n",
    "# Loop over the diagonal\n",
    "for i, p in enumerate(pars_select):\n",
    "    ax = axes[i, i]\n",
    "    x, y = get_prior_distr(c[t], p)\n",
    "    ax.plot(x, y, 'C2')\n",
    "    ax.set_xlim([x.min(),x.max()])\n",
    "    if p == 'log10_mc':\n",
    "        ax.axvline(get_mc_prior_mean(t_str), color='C1')\n",
    "        #ax.axvline(get_mc_prior_mean(t_str)+0.3, color='r', alpha=0.5, linestyle='dashed')\n",
    "        #ax.axvline(get_mc_prior_mean(t_str)-0.3, color='r', alpha=0.5, linestyle='dashed')\n",
    "        ylim = ax.get_ylim()\n",
    "        ax.fill_between([get_mc_prior_mean(t_str)-0.3,get_mc_prior_mean(t_str)+0.3],\n",
    "                        [ylim[0],ylim[0]],[ylim[1],ylim[1]], color='C1', alpha=0.2)\n",
    "# Loop over the histograms\n",
    "for yi, p1 in enumerate(pars_select): # rows\n",
    "    for xi, p2 in enumerate(pars_select[:yi]): # cols\n",
    "        ax = axes[yi, xi]\n",
    "        y, _ = get_prior_distr(c[t], p1)\n",
    "        x, _ = get_prior_distr(c[t], p2)\n",
    "        ax.set_xlim([x.min(),x.max()])\n",
    "        ax.set_ylim([y.min(),y.max()])\n",
    "if save:\n",
    "    fig.savefig(f'{save_loc}/HS1630_altskyloc.pdf', format='pdf', dpi=600)"
   ]
  },
  {
   "cell_type": "code",
   "execution_count": null,
   "id": "d1faf6da",
   "metadata": {},
   "outputs": [],
   "source": [
    "save = True\n",
    "\n",
    "pars_select = ['cos_inc','phase0','psi', 'log10_h0', 'log10_mc']\n",
    "#units = ['rad', 'rad', 'rad', 'calculated', r'$M_\\odot$']\n",
    "titles = [r'$\\cos\\iota$', '$\\Phi_0$', r'$\\psi$', r'$\\log_{10}h_0$', r'$\\log_{10}\\mathcal{M}_c$']\n",
    "labels = [r'$\\cos\\iota$', '$\\Phi_0$', r'$\\psi$', r'$\\log_{10}h_0$', r'$\\log_{10}\\mathcal{M}_c$ [$M_\\odot$]']\n",
    "quantiles = [0.16,0.5,0.84]\n",
    "\n",
    "# plot\n",
    "#labels = np.copy(titles)#[p+' \\n ('+u+')' if u else p+' \\n' for p,u in zip(titles, units)]\n",
    "#labels[-1] = labels[-1] + r' [$M_\\odot$]'\n",
    "lines = []\n",
    "t = targets[0]\n",
    "idxs = [c[t].params.index(p) for p in pars_select]\n",
    "fig = corner.corner(c[t].chain[c[t].burn:, idxs], labels=labels,\n",
    "                    plot_density=True, color='C0', plot_datapoints=False,\n",
    "                    #quantiles=quantiles, title_quantiles=quantiles,\n",
    "                    hist_kwargs={'density':True}, rasterized=True,\n",
    "                    titles=titles, show_titles=True, levels=(0.68, 0.95),\n",
    "                    label_kwargs={'fontsize': 20}, title_kwargs={'fontsize': 14, 'color':'C0'})\n",
    "lines.append(mlines.Line2D([],[],c='C0',label=t))\n",
    "t = targets[1]\n",
    "idxs = [c[t].params.index(p) for p in pars_select]\n",
    "fig = corner.corner(c[t].chain[c[t].burn:, idxs], fig=fig,#labels=labels,\n",
    "                    plot_density=False, color='k', plot_datapoints=False,\n",
    "                    no_fill_contours=True, rasterized=True,\n",
    "                    #quantiles=quantiles, title_quantiles=quantiles,\n",
    "                    hist_kwargs={'density':True}, levels=(0.68, 0.95))\n",
    "lines.append(mlines.Line2D([],[],c='k',label=t))\n",
    "fig.legend(handles=lines, fontsize='xx-large')\n",
    "\n",
    "fig.suptitle(f'HS 1630+2355 comparing sky locs, \\n'\n",
    "             f'Real: RA = {RA[0]}, DEC = {DEC[0]} \\n'\n",
    "             f'Alt: RA = {RA[1]}, DEC = {DEC[1]} \\n'\n",
    "             r'(fixed CRN, frequency, $d_L$)' + f' \\n'\n",
    "             f'log-uniform mass priors \\n',\n",
    "             fontsize=16, x=1, y=0.9, horizontalalignment='right')\n",
    "\n",
    "# Extract the axes\n",
    "axes = np.array(fig.axes).reshape((len(idxs), len(idxs)))\n",
    "\n",
    "# Loop over the diagonal\n",
    "for i, p in enumerate(pars_select):\n",
    "    ax = axes[i, i]\n",
    "    x, y = get_prior_distr(c[t], p)\n",
    "    ax.plot(x, y, 'C2', rasterized=True)\n",
    "    ax.set_xlim([x.min(),x.max()])\n",
    "    if p == 'log10_mc':\n",
    "        ax.axvline(get_mc_prior_mean(t_str), color='C1', rasterized=True)\n",
    "        #ax.axvline(get_mc_prior_mean(t_str)+0.3, color='r', alpha=0.5, linestyle='dashed')\n",
    "        #ax.axvline(get_mc_prior_mean(t_str)-0.3, color='r', alpha=0.5, linestyle='dashed')\n",
    "        ylim = ax.get_ylim()\n",
    "        ax.fill_between([get_mc_prior_mean(t_str)-0.3,get_mc_prior_mean(t_str)+0.3],\n",
    "                        [ylim[0],ylim[0]],[ylim[1],ylim[1]], color='C1', alpha=0.2, rasterized=True)\n",
    "# Loop over the histograms\n",
    "for yi, p1 in enumerate(pars_select): # rows\n",
    "    for xi, p2 in enumerate(pars_select[:yi]): # cols\n",
    "        ax = axes[yi, xi]\n",
    "        y, _ = get_prior_distr(c[t], p1)\n",
    "        x, _ = get_prior_distr(c[t], p2)\n",
    "        ax.set_xlim([x.min(),x.max()])\n",
    "        ax.set_ylim([y.min(),y.max()])"
   ]
  },
  {
   "cell_type": "code",
   "execution_count": null,
   "id": "98a80df7",
   "metadata": {},
   "outputs": [],
   "source": []
  }
 ],
 "metadata": {
  "kernelspec": {
   "display_name": "Python 3 (ipykernel)",
   "language": "python",
   "name": "python3"
  },
  "language_info": {
   "codemirror_mode": {
    "name": "ipython",
    "version": 3
   },
   "file_extension": ".py",
   "mimetype": "text/x-python",
   "name": "python",
   "nbconvert_exporter": "python",
   "pygments_lexer": "ipython3",
   "version": "3.10.12"
  }
 },
 "nbformat": 4,
 "nbformat_minor": 5
}
