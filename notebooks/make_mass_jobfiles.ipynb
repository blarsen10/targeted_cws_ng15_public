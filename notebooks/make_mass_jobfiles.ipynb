{
 "cells": [
  {
   "cell_type": "code",
   "execution_count": 1,
   "id": "a524f739",
   "metadata": {},
   "outputs": [],
   "source": [
    "import os, glob\n",
    "from datetime import date"
   ]
  },
  {
   "cell_type": "code",
   "execution_count": 3,
   "id": "6156b2b8",
   "metadata": {},
   "outputs": [],
   "source": [
    "project_path = '/vast/palmer/home.grace/bbl29/targeted_cws_ng15'\n",
    "template_UL_file = f'{project_path}/jobs/template_UL.sh'\n",
    "template_det_file = f'{project_path}/jobs/template_det.sh'\n",
    "todays_date = str(date.today()).replace('-','')\n",
    "# skipping HS 1630, NGC 3115, SNU 13120\n",
    "target_names = [\"3C66B\", \"HS_0926+3608\", \"OJ287\", \"PKS_2131-021\",\n",
    "                \"PKS_J0805-0111\", \"SDSS_J092911.35+2037\", \"SDSS_J114857.33+1600\",\n",
    "                \"SDSS_J131706.19+2714\", \"SDSS_J133516.17+1833\", \"SDSS_J134855.27-0321\",\n",
    "                \"SDSS_J140704.43+2735\", \"SDSS_J160730.33+1449\", \"SDSS_J164452.71+4307\"]"
   ]
  },
  {
   "cell_type": "code",
   "execution_count": 4,
   "id": "fa3912d4",
   "metadata": {},
   "outputs": [],
   "source": [
    "with open(template_UL_file, \"r\") as f:\n",
    "    template_UL = f.read()\n",
    "with open(template_det_file, \"r\") as f:\n",
    "    template_det = f.read()"
   ]
  },
  {
   "cell_type": "code",
   "execution_count": 5,
   "id": "b1783512",
   "metadata": {},
   "outputs": [],
   "source": [
    "target = target_names[0]"
   ]
  },
  {
   "cell_type": "code",
   "execution_count": 6,
   "id": "0131c31d",
   "metadata": {},
   "outputs": [
    {
     "data": {
      "text/plain": [
       "'#!/bin/bash\\n#SBATCH --job-name=3C66B_UL_20240322\\n#SBATCH --partition=pi_mingarelli\\n#SBATCH --exclude=r806u23n04\\n#SBATCH --output=/home/bbl29/targeted_cws_ng15/logs/3C66B_UL_20240322.txt\\n#SBATCH --error=/home/bbl29/targeted_cws_ng15/logs/error/3C66B_UL_20240322.txt\\n#SBATCH --nodes=1\\n#SBATCH --ntasks=4\\n#SBATCH --cpus-per-task=1\\n#SBATCH --threads-per-core=1\\n#SBATCH --mem-per-cpu=10G\\n#SBATCH --time=2-\\n#SBATCH --array=0-9\\n#SBATCH --mail-type=END\\n#SBATCH --mail-user=bjorn.larsen@yale.edu\\n\\necho \"SLURM_JOBID: \" $SLURM_JOBID\\necho \"SLURM_ARRAY_TASK_ID: \" $SLURM_ARRAY_TASK_ID\\necho \"SLURM_ARRAY_JOB_ID: \" $SLURM_ARRAY_JOB_ID\\n\\nmodule load miniconda\\nmodule load OpenMPI\\nconda activate PTA_env\\n\\nsource_name=3C66B\\ndataset=ng15_v1p1\\nnoisedict=15yr_wn_dict\\norf=\\npsrdists=pulsar_distances_15yr\\npath=/home/bbl29/targeted_cws_ng15\\noutdir=/home/bbl29/project/targeted_cws_ng15\\nhuman=blarsen\\ned_name=15yr_emp_distr\\nNiter=300000\\nT=10\\n\\nsrun -n $SLURM_NTASKS python3 ./scripts/run_targeted_search.py --source_name $source_name --dataset $dataset --upper_limit --orf $orf --noisedict $noisedict --psrdists $psrdists --project_path $path --outdir_path $outdir --human $human --emp_dist_name $ed_name -N $Niter -T $T\\n'"
      ]
     },
     "execution_count": 6,
     "metadata": {},
     "output_type": "execute_result"
    }
   ],
   "source": [
    "template_UL.replace(\"{{SOURCE_NAME}}\", target).replace(\"{{DATE}}\", todays_date)\n",
    "template_UL.replace(\"{{SOURCE_NAME}}\", target).replace(\"{{DATE}}\", todays_date)"
   ]
  },
  {
   "cell_type": "code",
   "execution_count": 7,
   "id": "d60c7154",
   "metadata": {},
   "outputs": [
    {
     "name": "stdout",
     "output_type": "stream",
     "text": [
      "3C66B\n",
      "HS_0926+3608\n",
      "OJ287\n",
      "PKS_2131-021\n",
      "PKS_J0805-0111\n",
      "SDSS_J092911.35+2037\n",
      "SDSS_J114857.33+1600\n",
      "SDSS_J131706.19+2714\n",
      "SDSS_J133516.17+1833\n",
      "SDSS_J134855.27-0321\n",
      "SDSS_J140704.43+2735\n",
      "SDSS_J160730.33+1449\n",
      "SDSS_J164452.71+4307\n"
     ]
    }
   ],
   "source": [
    "for target in target_names:\n",
    "    print(target)\n",
    "    # Write upper limit file\n",
    "    UL_file_path = f'{project_path}/jobs/{target}_UL.sh'\n",
    "    UL_job_text = template_UL.replace(\"{{SOURCE_NAME}}\", target)\n",
    "    UL_job_text = UL_job_text.replace(\"{{DATE}}\", todays_date)\n",
    "    with open(UL_file_path, \"w\") as f:\n",
    "        f.write(UL_job_text)\n",
    "    \n",
    "    # Write detection file\n",
    "    '''det_file_path = f'{project_path}/jobs/{target}_det.sh'\n",
    "    det_job_text = template_det.replace(\"{{SOURCE_NAME}}\", target)\n",
    "    det_job_text = det_job_text.replace(\"{{DATE}}\", todays_date)\n",
    "    with open(det_file_path, \"w\") as f:\n",
    "        f.write(det_job_text)'''"
   ]
  },
  {
   "cell_type": "markdown",
   "id": "a521f50b",
   "metadata": {},
   "source": [
    "Let's allow us to run all these in batch using `salloc`. Just run the following in the main directory:\n",
    "    \n",
    "    salloc -t 1:00 --mem=1G\n",
    "    python3 mass_submission.py"
   ]
  },
  {
   "cell_type": "code",
   "execution_count": 50,
   "id": "662d2989",
   "metadata": {},
   "outputs": [],
   "source": [
    "mass_submit_text = 'import os\\n'\n",
    "for target in target_names[2:]:\n",
    "    mass_submit_text += f'os.system(f\"sbatch jobs/{target}_det.sh\")\\n'\n",
    "    mass_submit_text += f'os.system(f\"sbatch jobs/{target}_UL.sh\")\\n'\n",
    "with open(f'{project_path}/mass_submission.py', \"w\") as f:\n",
    "    f.write(mass_submit_text)"
   ]
  },
  {
   "cell_type": "code",
   "execution_count": 41,
   "id": "eae6c482",
   "metadata": {},
   "outputs": [
    {
     "name": "stdout",
     "output_type": "stream",
     "text": [
      "make_mass_jobfiles.ipynb\n",
      "make_priors.ipynb\n",
      "make_simpsr_pickles.ipynb\n",
      "post_processing_analysis\n",
      "publication_results\n",
      "rename_data_files.ipynb\n",
      "testing_debugging\n"
     ]
    },
    {
     "data": {
      "text/plain": [
       "0"
      ]
     },
     "execution_count": 41,
     "metadata": {},
     "output_type": "execute_result"
    }
   ],
   "source": [
    "os.system('ls')"
   ]
  },
  {
   "cell_type": "code",
   "execution_count": null,
   "id": "f5e963ee",
   "metadata": {},
   "outputs": [],
   "source": []
  }
 ],
 "metadata": {
  "kernelspec": {
   "display_name": "Python 3 (ipykernel)",
   "language": "python",
   "name": "python3"
  },
  "language_info": {
   "codemirror_mode": {
    "name": "ipython",
    "version": 3
   },
   "file_extension": ".py",
   "mimetype": "text/x-python",
   "name": "python",
   "nbconvert_exporter": "python",
   "pygments_lexer": "ipython3",
   "version": "3.10.12"
  }
 },
 "nbformat": 4,
 "nbformat_minor": 5
}
